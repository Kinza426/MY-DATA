{
 "cells": [
  {
   "cell_type": "code",
   "execution_count": 61,
   "id": "3ece0bfa-76fe-4eb2-a5fc-dfc6f5ee14bd",
   "metadata": {},
   "outputs": [],
   "source": [
    "#plan of Second project\n",
    "#collect user preferences\n",
    "#lengt\n",
    "#should contain uppercase\n",
    "#should contain special characters \n",
    "#should contain digits\n",
    "\n",
    "#get all available characters\n",
    "\n",
    "#randomly pick characters up to the length\n",
    "\n",
    "# ensure we have at least one of each character type\n",
    "\n",
    "# ensure length is valid"
   ]
  },
  {
   "cell_type": "code",
   "execution_count": 111,
   "id": "8d105a08-6987-4841-bffa-61026029e2e4",
   "metadata": {},
   "outputs": [
    {
     "name": "stdin",
     "output_type": "stream",
     "text": [
      "Enter desired length of password:  9\n",
      "Include uppercase letters? (yes/no):  yes\n",
      "Include special characters? (yes/no):  yes\n",
      "Include digits? (yes/no):  yes\n"
     ]
    },
    {
     "name": "stdout",
     "output_type": "stream",
     "text": [
      "wh@y0b9\"S\n"
     ]
    }
   ],
   "source": [
    "import random\n",
    "import string\n",
    "\n",
    "def generate_password():\n",
    "    length = int(input(\"Enter desired length of password: \").strip())\n",
    "    include_uppercase = input(\"Include uppercase letters? (yes/no): \").strip().lower()\n",
    "    include_special = input(\"Include special characters? (yes/no): \").strip().lower()\n",
    "    include_digits = input(\"Include digits? (yes/no): \").strip().lower()\n",
    "\n",
    "    if length < 4:\n",
    "        print(\"Password length must be at least 4 characters.\")\n",
    "        return\n",
    "\n",
    "    lower = string.ascii_lowercase\n",
    "    uppercase = string.ascii_uppercase if include_uppercase == \"yes\" else \"\"\n",
    "    special = string.punctuation if include_special == \"yes\" else \"\"\n",
    "    digits = string.digits if include_digits == \"yes\" else \"\"\n",
    "\n",
    "    all_characters = lower + uppercase + special + digits\n",
    "\n",
    "    required_characters = []\n",
    "    if include_uppercase == \"yes\":  \n",
    "        required_characters.append(random.choice(uppercase))\n",
    "    if include_special == \"yes\":\n",
    "        required_characters.append(random.choice(special))\n",
    "    if include_digits == \"yes\":  \n",
    "        required_characters.append(random.choice(digits))\n",
    "\n",
    "    remaining_length = length - len(required_characters) \n",
    "    password = required_characters  \n",
    "    \n",
    "    for _ in range(remaining_length):\n",
    "        character = random.choice(all_characters)\n",
    "        password.append(character)\n",
    "    random.shuffle(password)  \n",
    "    str_password = \"\".join(password) \n",
    "    return str_password\n",
    "\n",
    "password = generate_password()\n",
    "print(password)"
   ]
  },
  {
   "cell_type": "code",
   "execution_count": null,
   "id": "b0812f6e-8ead-4caa-885b-2feceaec802d",
   "metadata": {},
   "outputs": [],
   "source": []
  }
 ],
 "metadata": {
  "kernelspec": {
   "display_name": "Python 3 (ipykernel)",
   "language": "python",
   "name": "python3"
  },
  "language_info": {
   "codemirror_mode": {
    "name": "ipython",
    "version": 3
   },
   "file_extension": ".py",
   "mimetype": "text/x-python",
   "name": "python",
   "nbconvert_exporter": "python",
   "pygments_lexer": "ipython3",
   "version": "3.12.7"
  }
 },
 "nbformat": 4,
 "nbformat_minor": 5
}
