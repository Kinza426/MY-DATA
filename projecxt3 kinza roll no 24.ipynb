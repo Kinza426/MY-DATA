{
 "cells": [
  {
   "cell_type": "code",
   "execution_count": 1,
   "id": "c8b0ce0a-aa2a-49f1-a9b3-cf0e8c1add76",
   "metadata": {},
   "outputs": [
    {
     "name": "stdout",
     "output_type": "stream",
     "text": [
      "\n",
      "To-Do List Manager\n",
      "1. View Tasks\n",
      "2. Add Task\n",
      "3. Complete Task\n",
      "4. Exit\n"
     ]
    },
    {
     "name": "stdin",
     "output_type": "stream",
     "text": [
      "Enter your choice:  2\n",
      "Enter the task description:  hello i am kinza.\n"
     ]
    },
    {
     "name": "stdout",
     "output_type": "stream",
     "text": [
      "Task added.\n",
      "\n",
      "To-Do List Manager\n",
      "1. View Tasks\n",
      "2. Add Task\n",
      "3. Complete Task\n",
      "4. Exit\n"
     ]
    },
    {
     "name": "stdin",
     "output_type": "stream",
     "text": [
      "Enter your choice:  1\n"
     ]
    },
    {
     "name": "stdout",
     "output_type": "stream",
     "text": [
      "\n",
      "Your To-Do List: \n",
      "1. hello i am kinza. | [Pending]\n",
      "\n",
      "To-Do List Manager\n",
      "1. View Tasks\n",
      "2. Add Task\n",
      "3. Complete Task\n",
      "4. Exit\n"
     ]
    },
    {
     "name": "stdin",
     "output_type": "stream",
     "text": [
      "Enter your choice:  3\n"
     ]
    },
    {
     "name": "stdout",
     "output_type": "stream",
     "text": [
      "\n",
      "Your To-Do List: \n",
      "1. hello i am kinza. | [Pending]\n"
     ]
    },
    {
     "name": "stdin",
     "output_type": "stream",
     "text": [
      "Enter the task number to mark as complete:  2\n"
     ]
    },
    {
     "name": "stdout",
     "output_type": "stream",
     "text": [
      "Invalid task number.\n",
      "\n",
      "To-Do List Manager\n",
      "1. View Tasks\n",
      "2. Add Task\n",
      "3. Complete Task\n",
      "4. Exit\n"
     ]
    },
    {
     "name": "stdin",
     "output_type": "stream",
     "text": [
      "Enter your choice:  4\n"
     ]
    },
    {
     "name": "stdout",
     "output_type": "stream",
     "text": [
      "Goodbye\n"
     ]
    }
   ],
   "source": [
    "import json\n",
    "\n",
    "file_name = \"todo_list.json\"\n",
    "\n",
    "def load_tasks():\n",
    "    try:\n",
    "        with open(file_name, \"r\") as file:\n",
    "            return json.load(file)\n",
    "    except:\n",
    "      return {\"tasks\": []}\n",
    "\n",
    "def save_tasks(tasks):\n",
    "    try:\n",
    "        with open(file_name, \"w\") as file:\n",
    "            json.dump(tasks, file)\n",
    "    except:\n",
    "      print(\"Failed to save.\")\n",
    "\n",
    "def view_tasks(tasks):\n",
    "    print()\n",
    "    task_list = tasks[\"tasks\"]\n",
    "    if len(task_list) == 0:\n",
    "        print(\"No tasks to display.\")\n",
    "    else:\n",
    "        print(\"Your To-Do List: \")\n",
    "        for idx, task in enumerate(task_list):\n",
    "            status = \"[Completed]\" if task[\"complete\"] else \"[Pending]\"\n",
    "            print(f\"{idx + 1}. {task['description']} | {status}\")\n",
    "\n",
    "def create_task(tasks):\n",
    "    description = input(\"Enter the task description: \").strip()\n",
    "    if description:\n",
    "        tasks[\"tasks\"].append({\"description\": description, \"complete\": False})\n",
    "        save_tasks(tasks)\n",
    "        print(\"Task added.\")\n",
    "    else:\n",
    "        print(\"Description cannot be empty.\")\n",
    "\n",
    "def mark_task_complete(tasks):\n",
    "    view_tasks(tasks)\n",
    "    try:\n",
    "        task_number = int(input(\"Enter the task number to mark as complete: \").strip())\n",
    "        if 1 <= task_number <= len(tasks):\n",
    "            tasks[\"tasks\"][task_number - 1][\"complete\"] = True\n",
    "            save_tasks(tasks)\n",
    "            print(\"Task marked as complete.\")\n",
    "        else:\n",
    "            print(\"Invalid task number.\")\n",
    "    except:\n",
    "        print(\"Enter a valid number.\")\n",
    "\n",
    "def main():\n",
    "    tasks = load_tasks()\n",
    "    \n",
    "    while True:\n",
    "        print(\"\\nTo-Do List Manager\")\n",
    "        print(\"1. View Tasks\")\n",
    "        print('2. Add Task')\n",
    "        print(\"3. Complete Task\")\n",
    "        print(\"4. Exit\")\n",
    "        \n",
    "        choice = input(\"Enter your choice: \").strip()\n",
    "        \n",
    "        if choice == \"1\":\n",
    "            view_tasks(tasks)\n",
    "        elif choice == \"2\":\n",
    "            create_task(tasks)\n",
    "        elif choice == \"3\":\n",
    "            mark_task_complete(tasks)\n",
    "        elif choice == \"4\":\n",
    "            print(\"Goodbye\")\n",
    "            break\n",
    "        else:\n",
    "            print(\"Invalid choice. Please try again.\")\n",
    "            \n",
    "main()"
   ]
  },
  {
   "cell_type": "code",
   "execution_count": null,
   "id": "993328f4-bb58-4212-a842-918c48bd16bc",
   "metadata": {},
   "outputs": [],
   "source": []
  }
 ],
 "metadata": {
  "kernelspec": {
   "display_name": "Python 3 (ipykernel)",
   "language": "python",
   "name": "python3"
  },
  "language_info": {
   "codemirror_mode": {
    "name": "ipython",
    "version": 3
   },
   "file_extension": ".py",
   "mimetype": "text/x-python",
   "name": "python",
   "nbconvert_exporter": "python",
   "pygments_lexer": "ipython3",
   "version": "3.12.7"
  }
 },
 "nbformat": 4,
 "nbformat_minor": 5
}
