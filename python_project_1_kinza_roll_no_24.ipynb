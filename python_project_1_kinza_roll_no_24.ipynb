{
  "nbformat": 4,
  "nbformat_minor": 0,
  "metadata": {
    "colab": {
      "provenance": []
    },
    "kernelspec": {
      "name": "python3",
      "display_name": "Python 3"
    },
    "language_info": {
      "name": "python"
    }
  },
  "cells": [
    {
      "cell_type": "code",
      "execution_count": 1,
      "metadata": {
        "id": "Dw37SzAXYjYu"
      },
      "outputs": [],
      "source": [
        "#plan of first project\n",
        "# list of questions\n",
        "# store the answers\n",
        "# randomly pick questions\n",
        "# ask the questions\n",
        "# see if they are correct\n",
        "# keep track of the score\n",
        "# tell the user their score"
      ]
    },
    {
      "cell_type": "code",
      "source": [
        "import random"
      ],
      "metadata": {
        "id": "r_NlwagfYtIX"
      },
      "execution_count": 26,
      "outputs": []
    },
    {
      "cell_type": "code",
      "source": [
        "questions= {\n",
        "\"What is the keyword to define a function in Python?\": \"def\",\n",
        "\"Which data type is used to store True or False values?\": \"boolean\",\n",
        "\"What is the correct file extension for Python files?\": \".py\",\n",
        "\"Which symbol is used to comment in Python?\": \"#\",\n",
        "\"What function is used to get input from the user?\": \"input\",\n",
        "\"How do you start a for loop in Python?\": \"for\",\n",
        "\"What is the output of 2 ** 3 in Python?\": \"8\",\n",
        "\"What keyword is used to import a module in Python?\": \"import\",\n",
        "\"What does the len() function return?\": \"length\",\n",
        "\"What is the result of 10 // 3 in Python?\": \"3\"\n",
        "}"
      ],
      "metadata": {
        "id": "ToRJoRmAYwHB"
      },
      "execution_count": 32,
      "outputs": []
    },
    {
      "cell_type": "code",
      "source": [
        "import random\n",
        "\n",
        "def python_trivia_game():\n",
        "  \"\"\"Plays a trivia game with 3 randomly selected questions.\"\"\"\n",
        "\n",
        "  questions_list = list(questions.keys())\n",
        "  total_questions = 3  # Set total_questions to 3\n",
        "  score = 0\n",
        "  selected_questions = random.sample(questions_list, total_questions)\n",
        "\n",
        "  for question in selected_questions:\n",
        "    print(question)\n",
        "    answer = input(\"Your answer: \")\n",
        "    if answer.lower() == questions[question].lower():\n",
        "      print(\"Correct!\")\n",
        "      score += 1\n",
        "    else:\n",
        "      print(\"Incorrect. The answer is\", questions[question])\n",
        "\n",
        "  print(\"\\nYou got\", score, \"out of\", total_questions, \"questions correct.\")\n",
        "\n",
        "# Call the function to start the game\n",
        "python_trivia_game()\n"
      ],
      "metadata": {
        "colab": {
          "base_uri": "https://localhost:8080/"
        },
        "id": "38aLAzV6Y8LU",
        "outputId": "d01b5dab-7680-4b34-a7a9-17da52017621"
      },
      "execution_count": 38,
      "outputs": [
        {
          "output_type": "stream",
          "name": "stdout",
          "text": [
            "What is the output of 2 ** 3 in Python?\n",
            "Your answer: 1\n",
            "Incorrect. The answer is 8\n",
            "Which symbol is used to comment in Python?\n",
            "Your answer: 1\n",
            "Incorrect. The answer is #\n",
            "What keyword is used to import a module in Python?\n",
            "Your answer: 1\n",
            "Incorrect. The answer is import\n",
            "\n",
            "You got 0 out of 3 questions correct.\n"
          ]
        }
      ]
    },
    {
      "cell_type": "code",
      "source": [],
      "metadata": {
        "id": "63ggiK60ji8V"
      },
      "execution_count": null,
      "outputs": []
    }
  ]
}